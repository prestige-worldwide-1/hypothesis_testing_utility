{
 "cells": [
  {
   "cell_type": "markdown",
   "id": "59145033",
   "metadata": {},
   "source": [
    "### Imports"
   ]
  },
  {
   "cell_type": "code",
   "execution_count": 4,
   "id": "da8aefe0",
   "metadata": {},
   "outputs": [],
   "source": [
    "import numpy as np\n",
    "import scipy.stats as tests"
   ]
  },
  {
   "cell_type": "markdown",
   "id": "1b5690cc",
   "metadata": {},
   "source": [
    "### Parts to a probability distribution\n",
    "- A probability distribution can be on either discrete values or continuous values.\n",
    "________________________________________________________________________\n",
    "||Discrete Variable|Continuous Variable|\n",
    "|---|---|---|\n",
    "**Def**|Represent counts|Represent measurable amounts|\n",
    "**Ex**|Number of calls received in a call-center per hour|Height, Employee salaries, Temperature|\n",
    "\n",
    "### Types of Distributions\n",
    "- Generate random variables `.rvs()` after creating a distribution object.\n",
    "________________________________________________________________________\n",
    "||Uniform|Normal|Binomial|Poisson\n",
    "|----|---|---|---|---|\n",
    "**Use Case**|The probability of every outcome is the same|Models a continuous random variable where the further away from the mean you are, the less likely the outcome.|Model the number of successes after a number of trials|Model a certain amount of events occuring over a time interval|\n",
    "**Variable Type**|Discrete||||\n",
    "**Example**|Rolling a dice, flipping a coin, card from a deck||||\n",
    "**Function**|`stats.randint()`: Generate a uniform distribution|`stats.norm()`|`stats.binom()`|`stats.poisson()`|\n",
    "\n",
    "\n",
    "### Distribution Methods\n",
    "\n",
    "- First make a distribution object from scipy (uniform, normal, binomial, poisson...), then use the dristribution that best fits your scenario.\n",
    "________________________________________________________________________\n",
    "||probability mass function|probability density function|cumulative distribution function |percent point function|survival function|inverse survival function|\n",
    "|----|---|---|---|---|----|----|\n",
    "**Primary Check**|If you have a given value and want the probability of that single value|If you have a given value and want the probability of that single value|Pobability our random value takes on a value `<=` a given point|Pobability our random value takes on a value `<=` a given point|Probability our random variable take on a value `>` a given point|Probability our random variable take on a value `>` a given point|\n",
    "**Secondary Check**|If your distribution is `made of` continuous or discrete random variables|If your distribution is `made of` continuous or discrete random variables|Do you `have` the value or the probability|Do you `have` the value or the probability|Do you `want` the value or the probability|Do you `want` the value or the probability|\n",
    "**Variable Type**|Descrete|Continuous|Value|Probability|Value|Probability\n",
    "**Function**|`.pmf()`|`.pdf()`|`.cdf()`|`.ppf()`|`.sf()`|`.isf()`|\n",
    "**Input**|Integer value|Float value|Any numeric value|Percentage value|Any numeric value|Percentage value|\n",
    "**Output**|Probability|Probability|Probability|Value|Probability|value|\n",
    "\n",
    "\n",
    "add later:\n",
    "\n",
    "sum of all probabilties in your sample space = 1"
   ]
  },
  {
   "cell_type": "markdown",
   "id": "84446fa8",
   "metadata": {},
   "source": [
    "### Tests\n",
    "_______________________________________________________________________\n",
    "\n",
    "|Goal|$H_{0}$|Data Needed|Parametric Test|Assumptions*|Non-parametric Test|  \n",
    "|---|---|---|---|---|---|  \n",
    "|Compare observed mean to theoretical one|$\\mu_{obs} = \\mu_{th}$|array-like of observed values & float of theoretical|One sample t-test: **scipy.stats.ttest_1samp**|Normally Distributed\\*\\*|One sample Wilcoxon signed rank test|   \n",
    "|Compare two observed means (independent samples)|$\\mu_{a} = \\mu_{b}$|2 array-like samples|Independent t-test (or 2-sample): **scipy.stats.ttest_ind**|Independent, Normally Distributed\\*\\*, Equal Variances\\*\\*\\*|Mann-Whitney's test|   \n",
    "|Compare several observed means (independent samples)|$\\mu_{a} = \\mu_{b} = \\mu_{n}$|n array-like samples|ANOVA: **scipy.stats.f_oneway**|Independent, Normally Distributed\\*\\*, Equal Variances|Kruskal-Wallis test|   \n",
    "\n",
    "\\*If assumptions can't be met, the equivalent non-parametric test can be used.   \n",
    "\\*\\*Normal Distribution assumption can be be met by having a large enough sample (due to Central Limit Theorem), or the data can be scaled using a Gaussian Scalar.   \n",
    "\\*\\*\\*The argument in the stats.ttest_ind() method of `equal_var` can be set to `False` to accomodate this assumption. "
   ]
  },
  {
   "cell_type": "code",
   "execution_count": null,
   "id": "4666b511",
   "metadata": {},
   "outputs": [],
   "source": []
  },
  {
   "cell_type": "code",
   "execution_count": null,
   "id": "d8fb38de",
   "metadata": {},
   "outputs": [],
   "source": []
  },
  {
   "cell_type": "code",
   "execution_count": null,
   "id": "d88e2d74",
   "metadata": {},
   "outputs": [],
   "source": []
  },
  {
   "cell_type": "code",
   "execution_count": null,
   "id": "cb8fddbd",
   "metadata": {},
   "outputs": [],
   "source": []
  }
 ],
 "metadata": {
  "kernelspec": {
   "display_name": "Python 3 (ipykernel)",
   "language": "python",
   "name": "python3"
  },
  "language_info": {
   "codemirror_mode": {
    "name": "ipython",
    "version": 3
   },
   "file_extension": ".py",
   "mimetype": "text/x-python",
   "name": "python",
   "nbconvert_exporter": "python",
   "pygments_lexer": "ipython3",
   "version": "3.10.9"
  }
 },
 "nbformat": 4,
 "nbformat_minor": 5
}
